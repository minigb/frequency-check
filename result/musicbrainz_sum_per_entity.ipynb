{
 "cells": [
  {
   "cell_type": "code",
   "execution_count": 2,
   "metadata": {},
   "outputs": [],
   "source": [
    "import pandas as pd\n",
    "import json\n",
    "from collections import defaultdict"
   ]
  },
  {
   "cell_type": "code",
   "execution_count": 3,
   "metadata": {},
   "outputs": [],
   "source": [
    "MUSIC_BRAINZ_ENTITY_TYPE = ['artist', 'release', 'genre', 'instrument'] # release is for album, release_group is not included\n",
    "CORPUS_TYPE = ['wiki', 'music']"
   ]
  },
  {
   "cell_type": "code",
   "execution_count": 4,
   "metadata": {},
   "outputs": [],
   "source": [
    "sum_df = pd.DataFrame(index = MUSIC_BRAINZ_ENTITY_TYPE)\n",
    "sum_df.index.name = 'entity_type'\n",
    "\n",
    "for entity in MUSIC_BRAINZ_ENTITY_TYPE:\n",
    "    for corpus_type in ['wiki', 'music']:\n",
    "        # entity frequency\n",
    "        freq_csv_path = f'{corpus_type}_corpus/musicbrainz_{entity}_{corpus_type}_corpus.csv'\n",
    "        freq_df = pd.read_csv(freq_csv_path)\n",
    "\n",
    "        sum_df.loc[entity, f'{corpus_type}_num'] = len(freq_df[freq_df['frequency'] > 0])\n",
    "        sum_df.loc[entity, f'{corpus_type}_freq'] = freq_df['frequency'].sum()\n",
    "\n",
    "    sum_df.loc[entity, 'musicbrainz_vocab'] = len(freq_df['num_of_docs_occured'])"
   ]
  },
  {
   "cell_type": "code",
   "execution_count": 5,
   "metadata": {},
   "outputs": [
    {
     "data": {
      "text/html": [
       "<div>\n",
       "<style scoped>\n",
       "    .dataframe tbody tr th:only-of-type {\n",
       "        vertical-align: middle;\n",
       "    }\n",
       "\n",
       "    .dataframe tbody tr th {\n",
       "        vertical-align: top;\n",
       "    }\n",
       "\n",
       "    .dataframe thead th {\n",
       "        text-align: right;\n",
       "    }\n",
       "</style>\n",
       "<table border=\"1\" class=\"dataframe\">\n",
       "  <thead>\n",
       "    <tr style=\"text-align: right;\">\n",
       "      <th></th>\n",
       "      <th>wiki_num</th>\n",
       "      <th>wiki_freq</th>\n",
       "      <th>music_num</th>\n",
       "      <th>music_freq</th>\n",
       "      <th>musicbrainz_vocab</th>\n",
       "    </tr>\n",
       "    <tr>\n",
       "      <th>entity_type</th>\n",
       "      <th></th>\n",
       "      <th></th>\n",
       "      <th></th>\n",
       "      <th></th>\n",
       "      <th></th>\n",
       "    </tr>\n",
       "  </thead>\n",
       "  <tbody>\n",
       "    <tr>\n",
       "      <th>artist</th>\n",
       "      <td>937,167</td>\n",
       "      <td>17,241,299,062</td>\n",
       "      <td>781,830</td>\n",
       "      <td>5,425,560,169</td>\n",
       "      <td>2,008,511</td>\n",
       "    </tr>\n",
       "    <tr>\n",
       "      <th>release</th>\n",
       "      <td>745,390</td>\n",
       "      <td>23,814,193,888</td>\n",
       "      <td>680,993</td>\n",
       "      <td>7,495,287,114</td>\n",
       "      <td>2,348,437</td>\n",
       "    </tr>\n",
       "    <tr>\n",
       "      <th>genre</th>\n",
       "      <td>1,556</td>\n",
       "      <td>42,676,598</td>\n",
       "      <td>1,581</td>\n",
       "      <td>21,110,527</td>\n",
       "      <td>1,808</td>\n",
       "    </tr>\n",
       "    <tr>\n",
       "      <th>instrument</th>\n",
       "      <td>942</td>\n",
       "      <td>50,004,721</td>\n",
       "      <td>931</td>\n",
       "      <td>17,595,725</td>\n",
       "      <td>1,019</td>\n",
       "    </tr>\n",
       "  </tbody>\n",
       "</table>\n",
       "</div>"
      ],
      "text/plain": [
       "             wiki_num      wiki_freq  music_num    music_freq  \\\n",
       "entity_type                                                     \n",
       "artist        937,167 17,241,299,062    781,830 5,425,560,169   \n",
       "release       745,390 23,814,193,888    680,993 7,495,287,114   \n",
       "genre           1,556     42,676,598      1,581    21,110,527   \n",
       "instrument        942     50,004,721        931    17,595,725   \n",
       "\n",
       "             musicbrainz_vocab  \n",
       "entity_type                     \n",
       "artist               2,008,511  \n",
       "release              2,348,437  \n",
       "genre                    1,808  \n",
       "instrument               1,019  "
      ]
     },
     "execution_count": 5,
     "metadata": {},
     "output_type": "execute_result"
    }
   ],
   "source": [
    "sum_df = sum_df.astype(float)\n",
    "pd.options.display.float_format = '{:,.0f}'.format\n",
    "sum_df"
   ]
  },
  {
   "cell_type": "code",
   "execution_count": 6,
   "metadata": {},
   "outputs": [],
   "source": [
    "# sum_df.astype(int).to_csv('entity_sum.csv')"
   ]
  },
  {
   "cell_type": "code",
   "execution_count": 7,
   "metadata": {},
   "outputs": [],
   "source": [
    "def get_corpus(corpus_type):\n",
    "    with open(f'../dataset/{corpus_type}_corpus.jsonl') as f:\n",
    "        corpus = [json.loads(line) for line in f]\n",
    "    return corpus\n",
    "\n",
    "def get_corpus_token_size(corpus):\n",
    "    token_size = sum(len(entity['text'].split(' ')) for entity in corpus)\n",
    "    return token_size"
   ]
  },
  {
   "cell_type": "code",
   "execution_count": 8,
   "metadata": {},
   "outputs": [],
   "source": [
    "wiki_corpus = get_corpus('wiki')\n",
    "music_corpus = get_corpus('music')"
   ]
  },
  {
   "cell_type": "code",
   "execution_count": 10,
   "metadata": {},
   "outputs": [],
   "source": [
    "wiki_token_size = get_corpus_token_size(wiki_corpus)\n",
    "music_token_size = get_corpus_token_size(music_corpus)"
   ]
  },
  {
   "cell_type": "code",
   "execution_count": 12,
   "metadata": {},
   "outputs": [
    {
     "name": "stdout",
     "output_type": "stream",
     "text": [
      "Vocab size\n",
      "wiki: 6,458,670, music: 12,465,805\n",
      "------------------------------\n",
      "Token size\n",
      "wiki: 2,999,251,565, music: 1,087,101,288\n"
     ]
    }
   ],
   "source": [
    "print('Vocab size')\n",
    "print(f'wiki: {len(wiki_corpus):,}, music: {len(music_corpus):,}')\n",
    "print('-' * 30)\n",
    "\n",
    "print('Token size')\n",
    "print(f'wiki: {wiki_token_size:,}, music: {music_token_size:,}')"
   ]
  },
  {
   "cell_type": "code",
   "execution_count": null,
   "metadata": {},
   "outputs": [],
   "source": []
  }
 ],
 "metadata": {
  "kernelspec": {
   "display_name": "madmom-with-given-requirement-txt",
   "language": "python",
   "name": "python3"
  },
  "language_info": {
   "codemirror_mode": {
    "name": "ipython",
    "version": 3
   },
   "file_extension": ".py",
   "mimetype": "text/x-python",
   "name": "python",
   "nbconvert_exporter": "python",
   "pygments_lexer": "ipython3",
   "version": "3.8.17"
  },
  "orig_nbformat": 4
 },
 "nbformat": 4,
 "nbformat_minor": 2
}
