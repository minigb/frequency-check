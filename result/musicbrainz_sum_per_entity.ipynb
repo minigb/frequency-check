{
 "cells": [
  {
   "cell_type": "code",
   "execution_count": 2,
   "metadata": {},
   "outputs": [],
   "source": [
    "import pandas as pd\n",
    "import json\n",
    "from collections import defaultdict"
   ]
  },
  {
   "cell_type": "code",
   "execution_count": 18,
   "metadata": {},
   "outputs": [],
   "source": [
    "MUSIC_BRAINZ_ENTITY_TYPE = ['artist', 'release', 'genre', 'instrument'] # release is for album, release_group is not included\n",
    "CORPUS_TYPE = ['wiki', 'music']"
   ]
  },
  {
   "cell_type": "code",
   "execution_count": 4,
   "metadata": {},
   "outputs": [],
   "source": [
    "sum_df = pd.DataFrame(index = MUSIC_BRAINZ_ENTITY_TYPE)\n",
    "sum_df.index.name = 'entity_type'\n",
    "\n",
    "for entity in MUSIC_BRAINZ_ENTITY_TYPE:\n",
    "    for corpus_type in CORPUS_TYPE:\n",
    "        # entity frequency\n",
    "        freq_csv_path = f'{corpus_type}_corpus/musicbrainz_{entity}_{corpus_type}_corpus.csv'\n",
    "        freq_df = pd.read_csv(freq_csv_path)\n",
    "\n",
    "        sum_df.loc[entity, f'{corpus_type}_num'] = len(freq_df[freq_df['frequency'] > 0])\n",
    "        sum_df.loc[entity, f'{corpus_type}_freq'] = freq_df['frequency'].sum()\n",
    "\n",
    "    sum_df.loc[entity, 'musicbrainz_vocab'] = len(freq_df['num_of_docs_occured'])"
   ]
  },
  {
   "cell_type": "code",
   "execution_count": 5,
   "metadata": {},
   "outputs": [
    {
     "data": {
      "text/html": [
       "<div>\n",
       "<style scoped>\n",
       "    .dataframe tbody tr th:only-of-type {\n",
       "        vertical-align: middle;\n",
       "    }\n",
       "\n",
       "    .dataframe tbody tr th {\n",
       "        vertical-align: top;\n",
       "    }\n",
       "\n",
       "    .dataframe thead th {\n",
       "        text-align: right;\n",
       "    }\n",
       "</style>\n",
       "<table border=\"1\" class=\"dataframe\">\n",
       "  <thead>\n",
       "    <tr style=\"text-align: right;\">\n",
       "      <th></th>\n",
       "      <th>wiki_num</th>\n",
       "      <th>wiki_freq</th>\n",
       "      <th>music_num</th>\n",
       "      <th>music_freq</th>\n",
       "      <th>musicbrainz_vocab</th>\n",
       "    </tr>\n",
       "    <tr>\n",
       "      <th>entity_type</th>\n",
       "      <th></th>\n",
       "      <th></th>\n",
       "      <th></th>\n",
       "      <th></th>\n",
       "      <th></th>\n",
       "    </tr>\n",
       "  </thead>\n",
       "  <tbody>\n",
       "    <tr>\n",
       "      <th>artist</th>\n",
       "      <td>937,167</td>\n",
       "      <td>17,241,299,062</td>\n",
       "      <td>781,830</td>\n",
       "      <td>5,425,560,169</td>\n",
       "      <td>2,008,511</td>\n",
       "    </tr>\n",
       "    <tr>\n",
       "      <th>release</th>\n",
       "      <td>745,390</td>\n",
       "      <td>23,814,193,888</td>\n",
       "      <td>680,993</td>\n",
       "      <td>7,495,287,114</td>\n",
       "      <td>2,348,437</td>\n",
       "    </tr>\n",
       "    <tr>\n",
       "      <th>genre</th>\n",
       "      <td>1,556</td>\n",
       "      <td>42,676,598</td>\n",
       "      <td>1,581</td>\n",
       "      <td>21,110,527</td>\n",
       "      <td>1,808</td>\n",
       "    </tr>\n",
       "    <tr>\n",
       "      <th>instrument</th>\n",
       "      <td>942</td>\n",
       "      <td>50,004,721</td>\n",
       "      <td>931</td>\n",
       "      <td>17,595,725</td>\n",
       "      <td>1,019</td>\n",
       "    </tr>\n",
       "  </tbody>\n",
       "</table>\n",
       "</div>"
      ],
      "text/plain": [
       "             wiki_num      wiki_freq  music_num    music_freq  \\\n",
       "entity_type                                                     \n",
       "artist        937,167 17,241,299,062    781,830 5,425,560,169   \n",
       "release       745,390 23,814,193,888    680,993 7,495,287,114   \n",
       "genre           1,556     42,676,598      1,581    21,110,527   \n",
       "instrument        942     50,004,721        931    17,595,725   \n",
       "\n",
       "             musicbrainz_vocab  \n",
       "entity_type                     \n",
       "artist               2,008,511  \n",
       "release              2,348,437  \n",
       "genre                    1,808  \n",
       "instrument               1,019  "
      ]
     },
     "execution_count": 5,
     "metadata": {},
     "output_type": "execute_result"
    }
   ],
   "source": [
    "sum_df = sum_df.astype(float)\n",
    "pd.options.display.float_format = '{:,.0f}'.format\n",
    "sum_df"
   ]
  },
  {
   "cell_type": "code",
   "execution_count": 6,
   "metadata": {},
   "outputs": [],
   "source": [
    "# sum_df.astype(int).to_csv('entity_sum.csv')"
   ]
  },
  {
   "cell_type": "code",
   "execution_count": 14,
   "metadata": {},
   "outputs": [],
   "source": [
    "class Corpus:\n",
    "    def __init__(self, corpus_type):\n",
    "        self.corpus_type = corpus_type\n",
    "        self.corpus = self._get_corpus()\n",
    "        self.corpus_token_size = self._get_corpus_token_size()\n",
    "\n",
    "    def _get_corpus(self):\n",
    "        with open(f'../dataset/{self.corpus_type}_corpus.jsonl') as f:\n",
    "            self.corpus = [json.loads(line) for line in f]\n",
    "        return self.corpus\n",
    "\n",
    "    def _get_corpus_token_size(self):\n",
    "        self.token_size = sum(len(entity['text'].split(' ')) for entity in self.corpus)\n",
    "        return self.token_size"
   ]
  },
  {
   "cell_type": "code",
   "execution_count": 19,
   "metadata": {},
   "outputs": [],
   "source": [
    "corpus_dict = defaultdict()\n",
    "for corpus_type in CORPUS_TYPE:\n",
    "    corpus_dict[corpus_type] = Corpus(corpus_type)"
   ]
  },
  {
   "cell_type": "code",
   "execution_count": 21,
   "metadata": {},
   "outputs": [
    {
     "name": "stdout",
     "output_type": "stream",
     "text": [
      "wiki\n",
      "vocab size: 6458670\n",
      "Token size: 2999251565\n",
      "------------------------------\n",
      "music\n",
      "vocab size: 12465805\n",
      "Token size: 1087101288\n",
      "------------------------------\n"
     ]
    }
   ],
   "source": [
    "for corpus_type in CORPUS_TYPE:\n",
    "    print(corpus_type)\n",
    "    print('vocab size:', len(corpus_dict[corpus_type].corpus))\n",
    "    print('Token size:', corpus_dict[corpus_type].token_size)\n",
    "    print('-' * 30)"
   ]
  },
  {
   "cell_type": "code",
   "execution_count": 29,
   "metadata": {},
   "outputs": [
    {
     "data": {
      "text/html": [
       "<div>\n",
       "<style scoped>\n",
       "    .dataframe tbody tr th:only-of-type {\n",
       "        vertical-align: middle;\n",
       "    }\n",
       "\n",
       "    .dataframe tbody tr th {\n",
       "        vertical-align: top;\n",
       "    }\n",
       "\n",
       "    .dataframe thead th {\n",
       "        text-align: right;\n",
       "    }\n",
       "</style>\n",
       "<table border=\"1\" class=\"dataframe\">\n",
       "  <thead>\n",
       "    <tr style=\"text-align: right;\">\n",
       "      <th></th>\n",
       "      <th>wiki_num</th>\n",
       "      <th>wiki_freq</th>\n",
       "      <th>music_num</th>\n",
       "      <th>music_freq</th>\n",
       "      <th>gtzan_vocab</th>\n",
       "    </tr>\n",
       "    <tr>\n",
       "      <th>entity_type</th>\n",
       "      <th></th>\n",
       "      <th></th>\n",
       "      <th></th>\n",
       "      <th></th>\n",
       "      <th></th>\n",
       "    </tr>\n",
       "  </thead>\n",
       "  <tbody>\n",
       "    <tr>\n",
       "      <th>artist</th>\n",
       "      <td>249</td>\n",
       "      <td>2,492,119</td>\n",
       "      <td>246</td>\n",
       "      <td>1,686,833</td>\n",
       "      <td>313</td>\n",
       "    </tr>\n",
       "    <tr>\n",
       "      <th>album</th>\n",
       "      <td>271</td>\n",
       "      <td>5,689,815</td>\n",
       "      <td>287</td>\n",
       "      <td>4,996,432</td>\n",
       "      <td>489</td>\n",
       "    </tr>\n",
       "  </tbody>\n",
       "</table>\n",
       "</div>"
      ],
      "text/plain": [
       "             wiki_num  wiki_freq  music_num  music_freq  gtzan_vocab\n",
       "entity_type                                                         \n",
       "artist            249  2,492,119        246   1,686,833          313\n",
       "album             271  5,689,815        287   4,996,432          489"
      ]
     },
     "execution_count": 29,
     "metadata": {},
     "output_type": "execute_result"
    }
   ],
   "source": [
    "GTZAN_ENTITY_TYPE = ['artist', 'album']\n",
    "gtzan_sum_df = pd.DataFrame(index = GTZAN_ENTITY_TYPE)\n",
    "gtzan_sum_df.index.name = 'entity_type'\n",
    "\n",
    "for entity in GTZAN_ENTITY_TYPE:\n",
    "    for corpus_type in CORPUS_TYPE:\n",
    "        # entity frequency\n",
    "        freq_csv_path = f'{corpus_type}_corpus/gtzan_{entity}_{corpus_type}_corpus.csv'\n",
    "        freq_df = pd.read_csv(freq_csv_path)\n",
    "\n",
    "        gtzan_sum_df.loc[entity, f'{corpus_type}_num'] = len(freq_df[freq_df['frequency'] > 0])\n",
    "        gtzan_sum_df.loc[entity, f'{corpus_type}_freq'] = freq_df['frequency'].sum()\n",
    "        # gtzan_sum_df.loc[entity, f'{corpus_type}_freq/tokensize'] = \\\n",
    "            # gtzan_sum_df.loc[entity, f'{corpus_type}_freq'] / corpus_dict[corpus_type].token_size\n",
    "\n",
    "    gtzan_sum_df.loc[entity, 'gtzan_vocab'] = len(freq_df['num_of_docs_occured'])\n",
    "\n",
    "gtzan_sum_df = gtzan_sum_df.astype(float)\n",
    "pd.options.display.float_format = '{:,.0f}'.format\n",
    "gtzan_sum_df"
   ]
  },
  {
   "cell_type": "code",
   "execution_count": 28,
   "metadata": {},
   "outputs": [
    {
     "name": "stdout",
     "output_type": "stream",
     "text": [
      "artist\twiki/token:\t\t 0.0008309136282804607\n",
      "artist\tmusic/token:\t\t 0.0015516796996012758\n",
      "album\twiki/token:\t\t 0.0018970782799274792\n",
      "album\tmusic/token:\t\t 0.004596105307898412\n"
     ]
    }
   ],
   "source": [
    "for entity in GTZAN_ENTITY_TYPE:\n",
    "    for corpus_type in CORPUS_TYPE:\n",
    "        print(f'{entity}\\t{corpus_type}/token:\\t\\t', gtzan_sum_df.loc[entity, f'{corpus_type}_freq'] / corpus_dict[corpus_type].token_size)"
   ]
  },
  {
   "cell_type": "code",
   "execution_count": null,
   "metadata": {},
   "outputs": [],
   "source": []
  }
 ],
 "metadata": {
  "kernelspec": {
   "display_name": "madmom-with-given-requirement-txt",
   "language": "python",
   "name": "python3"
  },
  "language_info": {
   "codemirror_mode": {
    "name": "ipython",
    "version": 3
   },
   "file_extension": ".py",
   "mimetype": "text/x-python",
   "name": "python",
   "nbconvert_exporter": "python",
   "pygments_lexer": "ipython3",
   "version": "3.8.17"
  },
  "orig_nbformat": 4
 },
 "nbformat": 4,
 "nbformat_minor": 2
}
