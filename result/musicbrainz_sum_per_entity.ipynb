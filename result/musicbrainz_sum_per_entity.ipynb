{
 "cells": [
  {
   "cell_type": "code",
   "execution_count": 1,
   "metadata": {},
   "outputs": [],
   "source": [
    "import pandas as pd"
   ]
  },
  {
   "cell_type": "code",
   "execution_count": 2,
   "metadata": {},
   "outputs": [],
   "source": [
    "MUSIC_BRAINZ_ENTITY = ['artist', 'genre', 'instrument', 'release'] # release is for album, release_group is not included\n",
    "sum_df = pd.DataFrame(index = MUSIC_BRAINZ_ENTITY, columns = ['wiki_num', 'wiki_freq', 'music_num', 'music_freq', 'vocab'])\n",
    "sum_df.index.name = 'entity'"
   ]
  },
  {
   "cell_type": "code",
   "execution_count": 3,
   "metadata": {},
   "outputs": [],
   "source": [
    "for entity in MUSIC_BRAINZ_ENTITY:\n",
    "    for corpus_type in ['wiki', 'music']:\n",
    "        freq_csv_path = f'{corpus_type}_corpus/musicbrainz_{entity}_{corpus_type}_corpus.csv'\n",
    "        freq_df = pd.read_csv(freq_csv_path)\n",
    "\n",
    "        sum_df.loc[entity, f'{corpus_type}_num'] = freq_df['number'].sum()\n",
    "        sum_df.loc[entity, f'{corpus_type}_freq'] = freq_df['frequency'].sum()\n",
    "    sum_df.loc[entity, 'vocab'] = len(freq_df['number'])"
   ]
  },
  {
   "cell_type": "code",
   "execution_count": 4,
   "metadata": {},
   "outputs": [
    {
     "data": {
      "text/html": [
       "<div>\n",
       "<style scoped>\n",
       "    .dataframe tbody tr th:only-of-type {\n",
       "        vertical-align: middle;\n",
       "    }\n",
       "\n",
       "    .dataframe tbody tr th {\n",
       "        vertical-align: top;\n",
       "    }\n",
       "\n",
       "    .dataframe thead th {\n",
       "        text-align: right;\n",
       "    }\n",
       "</style>\n",
       "<table border=\"1\" class=\"dataframe\">\n",
       "  <thead>\n",
       "    <tr style=\"text-align: right;\">\n",
       "      <th></th>\n",
       "      <th>wiki_num</th>\n",
       "      <th>wiki_freq</th>\n",
       "      <th>music_num</th>\n",
       "      <th>music_freq</th>\n",
       "      <th>vocab</th>\n",
       "    </tr>\n",
       "    <tr>\n",
       "      <th>entity</th>\n",
       "      <th></th>\n",
       "      <th></th>\n",
       "      <th></th>\n",
       "      <th></th>\n",
       "      <th></th>\n",
       "    </tr>\n",
       "  </thead>\n",
       "  <tbody>\n",
       "    <tr>\n",
       "      <th>artist</th>\n",
       "      <td>2,189,247,821</td>\n",
       "      <td>17,241,299,062</td>\n",
       "      <td>1,327,304,247</td>\n",
       "      <td>5,425,560,169</td>\n",
       "      <td>2,008,511</td>\n",
       "    </tr>\n",
       "    <tr>\n",
       "      <th>genre</th>\n",
       "      <td>18,093,658</td>\n",
       "      <td>42,676,598</td>\n",
       "      <td>12,733,161</td>\n",
       "      <td>21,110,527</td>\n",
       "      <td>1,808</td>\n",
       "    </tr>\n",
       "    <tr>\n",
       "      <th>instrument</th>\n",
       "      <td>15,994,971</td>\n",
       "      <td>50,004,721</td>\n",
       "      <td>9,619,475</td>\n",
       "      <td>17,595,725</td>\n",
       "      <td>1,019</td>\n",
       "    </tr>\n",
       "    <tr>\n",
       "      <th>release</th>\n",
       "      <td>2,316,353,924</td>\n",
       "      <td>23,814,193,888</td>\n",
       "      <td>1,548,014,082</td>\n",
       "      <td>7,495,287,114</td>\n",
       "      <td>2,348,437</td>\n",
       "    </tr>\n",
       "  </tbody>\n",
       "</table>\n",
       "</div>"
      ],
      "text/plain": [
       "                wiki_num      wiki_freq     music_num    music_freq     vocab\n",
       "entity                                                                       \n",
       "artist     2,189,247,821 17,241,299,062 1,327,304,247 5,425,560,169 2,008,511\n",
       "genre         18,093,658     42,676,598    12,733,161    21,110,527     1,808\n",
       "instrument    15,994,971     50,004,721     9,619,475    17,595,725     1,019\n",
       "release    2,316,353,924 23,814,193,888 1,548,014,082 7,495,287,114 2,348,437"
      ]
     },
     "execution_count": 4,
     "metadata": {},
     "output_type": "execute_result"
    }
   ],
   "source": [
    "sum_df = sum_df.astype(float)\n",
    "pd.options.display.float_format = '{:,.0f}'.format\n",
    "sum_df"
   ]
  },
  {
   "cell_type": "code",
   "execution_count": 5,
   "metadata": {},
   "outputs": [],
   "source": [
    "# sum_df.astype(int).to_csv('entity_sum.csv')"
   ]
  },
  {
   "cell_type": "code",
   "execution_count": null,
   "metadata": {},
   "outputs": [],
   "source": []
  }
 ],
 "metadata": {
  "kernelspec": {
   "display_name": "madmom-with-given-requirement-txt",
   "language": "python",
   "name": "python3"
  },
  "language_info": {
   "codemirror_mode": {
    "name": "ipython",
    "version": 3
   },
   "file_extension": ".py",
   "mimetype": "text/x-python",
   "name": "python",
   "nbconvert_exporter": "python",
   "pygments_lexer": "ipython3",
   "version": "3.8.17"
  },
  "orig_nbformat": 4
 },
 "nbformat": 4,
 "nbformat_minor": 2
}
