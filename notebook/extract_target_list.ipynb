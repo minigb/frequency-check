{
 "cells": [
  {
   "cell_type": "code",
   "execution_count": 13,
   "metadata": {},
   "outputs": [],
   "source": [
    "import json\n",
    "from datasets import load_dataset\n",
    "import pandas as pd\n",
    "import os"
   ]
  },
  {
   "cell_type": "code",
   "execution_count": 18,
   "metadata": {},
   "outputs": [],
   "source": [
    "DATASET_PATH = '../dataset'\n",
    "MUSIC_INFO_PATH = f'{DATASET_PATH}/music_info'\n",
    "ARTIST_LIST_PATH = f'{DATASET_PATH}/artist_list'"
   ]
  },
  {
   "cell_type": "code",
   "execution_count": 3,
   "metadata": {},
   "outputs": [
    {
     "data": {
      "text/plain": [
       "(313,\n",
       " 313,\n",
       " ['2Pac',\n",
       "  '3LW featuring NAS',\n",
       "  '50 Cent',\n",
       "  'A Tribe Called Quest',\n",
       "  'ABBA',\n",
       "  'AC/DC',\n",
       "  'Aaliyah',\n",
       "  'Abigail',\n",
       "  'Academy of St Martin in the Fields & Sir Neville Marriner',\n",
       "  'Accept'])"
      ]
     },
     "execution_count": 3,
     "metadata": {},
     "output_type": "execute_result"
    }
   ],
   "source": [
    "# gtzan\n",
    "gtzan_dir = f'{MUSIC_INFO_PATH}/seungheondoh/gtzan_retrieval/artist2music.csv'\n",
    "gtzan_artist_df = pd.read_csv(gtzan_dir)\n",
    "gtzan_artist_list = gtzan_artist_df['query'].to_list()\n",
    "with open(f'{ARTIST_LIST_PATH}/gtzan_artist.json', 'w') as file:\n",
    "    json.dump(gtzan_artist_list, file)\n",
    "len(gtzan_artist_list), len(set(gtzan_artist_list)), gtzan_artist_list[:10]"
   ]
  },
  {
   "cell_type": "code",
   "execution_count": 4,
   "metadata": {},
   "outputs": [
    {
     "data": {
      "text/plain": [
       "(17673,\n",
       " 17599,\n",
       " ['EIEIO',\n",
       "  'Tracy + The Plastics',\n",
       "  'Bobby Burns',\n",
       "  'Amesoeurs',\n",
       "  'Eddie Holman',\n",
       "  'Manu Chao',\n",
       "  'Hot Banditoz',\n",
       "  'Samuli Kemppi',\n",
       "  'The Lovemakers',\n",
       "  'Seth Gueko'])"
      ]
     },
     "execution_count": 4,
     "metadata": {},
     "output_type": "execute_result"
    }
   ],
   "source": [
    "# olga\n",
    "olga_dir = f'{MUSIC_INFO_PATH}/olga.jsonl'\n",
    "olga_dataset = [json.loads(line) for line in open(olga_dir)]\n",
    "olga_artist_list = [element['query'] for element in olga_dataset]\n",
    "with open(f'{ARTIST_LIST_PATH}/olga_artist.json', 'w') as file:\n",
    "    json.dump(olga_artist_list, file)\n",
    "len(olga_artist_list), len(set(olga_artist_list)), olga_artist_list[:10]"
   ]
  },
  {
   "cell_type": "code",
   "execution_count": 5,
   "metadata": {},
   "outputs": [
    {
     "data": {
      "text/plain": [
       "(2637,\n",
       " 1410,\n",
       " ['Grave Digger',\n",
       "  'Dan Sartain',\n",
       "  'Ryoji Ikeda',\n",
       "  'Syreeta',\n",
       "  'K-Rino',\n",
       "  'Muddy Waters',\n",
       "  'Comfort Fit',\n",
       "  'David Holmes',\n",
       "  'Dynamix II',\n",
       "  'Burl Ives'])"
      ]
     },
     "execution_count": 5,
     "metadata": {},
     "output_type": "execute_result"
    }
   ],
   "source": [
    "# dimsim\n",
    "dimsim_dir = f'{MUSIC_INFO_PATH}/dimsim_track_meta.json'\n",
    "dimsim_dataset = [json.loads(line) for line in open(dimsim_dir)]\n",
    "dimsim_artist_list = [element['artist_name'] for element in dimsim_dataset[0].values()]\n",
    "with open(f'{ARTIST_LIST_PATH}/dimsim_artist.json', 'w') as file:\n",
    "    json.dump(dimsim_artist_list, file)\n",
    "len(dimsim_artist_list), len(set(dimsim_artist_list)), dimsim_artist_list[:10]"
   ]
  },
  {
   "cell_type": "code",
   "execution_count": 6,
   "metadata": {},
   "outputs": [
    {
     "data": {
      "text/plain": [
       "(2212388,\n",
       " 2008511,\n",
       " ['Доктор Сатана',\n",
       "  'Pete Moutso',\n",
       "  'Zachary',\n",
       "  'The Silhouettes',\n",
       "  'Aric Leavitt',\n",
       "  'Fonograff',\n",
       "  'Al Street',\n",
       "  'Love .45',\n",
       "  'Sintellect',\n",
       "  'Evie Tamala'])"
      ]
     },
     "execution_count": 6,
     "metadata": {},
     "output_type": "execute_result"
    }
   ],
   "source": [
    "# musicbrainz\n",
    "musicbrainz_dir = f'{MUSIC_INFO_PATH}/musicbrainz.jsonl'\n",
    "musicbrainz_dataset = [json.loads(line) for line in open(musicbrainz_dir)]\n",
    "musicbrainz_artist_list = [element['text'] for element in musicbrainz_dataset]\n",
    "with open(f'{ARTIST_LIST_PATH}/musicbrainz_artist.json', 'w') as file:\n",
    "    json.dump(musicbrainz_artist_list, file)\n",
    "len(musicbrainz_artist_list), len(set(musicbrainz_artist_list)), musicbrainz_artist_list[:10]"
   ]
  },
  {
   "cell_type": "code",
   "execution_count": 20,
   "metadata": {},
   "outputs": [],
   "source": [
    "MUSIC_BRAINZ_ENTITY = ['artist', 'genre', 'instrument', 'release'] # release_group is not included\n",
    "class MusicBrainzEntity:\n",
    "    def __init__(self, entity_name):\n",
    "        assert entity_name in MUSIC_BRAINZ_ENTITY, f'{entity_name} is not a targeting MusicBrainz entity'\n",
    "        self.entity_name = entity_name\n",
    "        self.dir = f'{MUSIC_INFO_PATH}/musicbrainz/{self.entity_name}.jsonl'\n",
    "        assert os.path.exists(self.dir), f'{self.dir} does not exist'\n",
    "    \n",
    "    def get_and_save_entity_list(self):\n",
    "        dataset = [json.loads(line) for line in open(self.dir)]\n",
    "        self.data_list = [element['text'] for element in dataset]\n",
    "        with open(f'{DATASET_PATH}/musicbrainz/musicbrainz_{self.entity_name}.json', 'w') as file:\n",
    "            json.dump(self.data_list, file)"
   ]
  },
  {
   "cell_type": "code",
   "execution_count": 24,
   "metadata": {},
   "outputs": [
    {
     "name": "stdout",
     "output_type": "stream",
     "text": [
      "artist\n",
      "2212388 2008511\n",
      "['Доктор Сатана', 'Pete Moutso', 'Zachary', 'The Silhouettes', 'Aric Leavitt', 'Fonograff', 'Al Street', 'Love .45', 'Sintellect', 'Evie Tamala']\n",
      "------------------------------\n",
      "genre\n",
      "1808 1808\n",
      "['acid house', 'acid jazz', 'acid techno', 'acoustic blues', 'acoustic rock', 'afro-zouk', 'alternative country', 'alternative dance', 'alternative folk', 'alternative hip hop']\n",
      "------------------------------\n",
      "instrument\n",
      "1020 1019\n",
      "['nabal', 'guitarrón mexicano', 'zhaleika', 'tubax', 'jouhikko', 'friction idiophone', 'tenor viol', 'doshpuluur', 'igil', 'saw sam sai']\n",
      "------------------------------\n",
      "release\n",
      "3777844 2348437\n",
      "['A Sorta Fairytale', 'A Sorta Fairytale', 'Kriminaltango et al', 'Silent All These Years', 'Demons', 'Out Spaced', 'Open Up Your Mind', 'Augusta Taurinorum', 'Talking in the Streets', 'Year 3000 (disc 2)']\n",
      "------------------------------\n"
     ]
    }
   ],
   "source": [
    "for entity_name in MUSIC_BRAINZ_ENTITY:\n",
    "    entity = MusicBrainzEntity(entity_name)\n",
    "    entity.get_and_save_entity_list()\n",
    "\n",
    "    print(entity_name)\n",
    "    print(len(entity.data_list), len(set(entity.data_list)))\n",
    "    print(entity.data_list[:10])\n",
    "    print('-' * 30)"
   ]
  },
  {
   "cell_type": "code",
   "execution_count": null,
   "metadata": {},
   "outputs": [],
   "source": []
  }
 ],
 "metadata": {
  "kernelspec": {
   "display_name": "madmom-with-given-requirement-txt",
   "language": "python",
   "name": "python3"
  },
  "language_info": {
   "codemirror_mode": {
    "name": "ipython",
    "version": 3
   },
   "file_extension": ".py",
   "mimetype": "text/x-python",
   "name": "python",
   "nbconvert_exporter": "python",
   "pygments_lexer": "ipython3",
   "version": "3.8.17"
  },
  "orig_nbformat": 4
 },
 "nbformat": 4,
 "nbformat_minor": 2
}
