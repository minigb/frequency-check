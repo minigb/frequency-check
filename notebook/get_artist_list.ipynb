{
 "cells": [
  {
   "cell_type": "code",
   "execution_count": 1,
   "metadata": {},
   "outputs": [],
   "source": [
    "import json\n",
    "from datasets import load_dataset\n",
    "import pandas as pd"
   ]
  },
  {
   "cell_type": "code",
   "execution_count": 2,
   "metadata": {},
   "outputs": [],
   "source": [
    "INPUT_PATH = '../dataset/music_info'\n",
    "OUTPUT_PATH = '../dataset/artist_list/'"
   ]
  },
  {
   "cell_type": "code",
   "execution_count": 3,
   "metadata": {},
   "outputs": [
    {
     "data": {
      "text/plain": [
       "(313,\n",
       " 313,\n",
       " ['2Pac',\n",
       "  '3LW featuring NAS',\n",
       "  '50 Cent',\n",
       "  'A Tribe Called Quest',\n",
       "  'ABBA',\n",
       "  'AC/DC',\n",
       "  'Aaliyah',\n",
       "  'Abigail',\n",
       "  'Academy of St Martin in the Fields & Sir Neville Marriner',\n",
       "  'Accept'])"
      ]
     },
     "execution_count": 3,
     "metadata": {},
     "output_type": "execute_result"
    }
   ],
   "source": [
    "# gtzan\n",
    "gtzan_dir = f'{INPUT_PATH}/seungheondoh/gtzan_retrieval/artist2music.csv'\n",
    "gtzan_artist_df = pd.read_csv(gtzan_dir)\n",
    "gtzan_artist_list = gtzan_artist_df['query'].to_list()\n",
    "with open(f'{OUTPUT_PATH}/gtzan_artist.json', 'w') as file:\n",
    "    json.dump(gtzan_artist_list, file)\n",
    "len(gtzan_artist_list), len(set(gtzan_artist_list)), gtzan_artist_list[:10]"
   ]
  },
  {
   "cell_type": "code",
   "execution_count": 4,
   "metadata": {},
   "outputs": [
    {
     "data": {
      "text/plain": [
       "(17673,\n",
       " 17599,\n",
       " ['EIEIO',\n",
       "  'Tracy + The Plastics',\n",
       "  'Bobby Burns',\n",
       "  'Amesoeurs',\n",
       "  'Eddie Holman',\n",
       "  'Manu Chao',\n",
       "  'Hot Banditoz',\n",
       "  'Samuli Kemppi',\n",
       "  'The Lovemakers',\n",
       "  'Seth Gueko'])"
      ]
     },
     "execution_count": 4,
     "metadata": {},
     "output_type": "execute_result"
    }
   ],
   "source": [
    "# olga\n",
    "olga_dir = f'{INPUT_PATH}/olga.jsonl'\n",
    "olga_dataset = [json.loads(line) for line in open(olga_dir)]\n",
    "olga_artist_list = [element['query'] for element in olga_dataset]\n",
    "with open(f'{OUTPUT_PATH}/olga_artist.json', 'w') as file:\n",
    "    json.dump(olga_artist_list, file)\n",
    "len(olga_artist_list), len(set(olga_artist_list)), olga_artist_list[:10]"
   ]
  },
  {
   "cell_type": "code",
   "execution_count": 5,
   "metadata": {},
   "outputs": [
    {
     "data": {
      "text/plain": [
       "(2637,\n",
       " 1410,\n",
       " ['Grave Digger',\n",
       "  'Dan Sartain',\n",
       "  'Ryoji Ikeda',\n",
       "  'Syreeta',\n",
       "  'K-Rino',\n",
       "  'Muddy Waters',\n",
       "  'Comfort Fit',\n",
       "  'David Holmes',\n",
       "  'Dynamix II',\n",
       "  'Burl Ives'])"
      ]
     },
     "execution_count": 5,
     "metadata": {},
     "output_type": "execute_result"
    }
   ],
   "source": [
    "# dimsim\n",
    "dimsim_dir = f'{INPUT_PATH}/dimsim_track_meta.json'\n",
    "dimsim_dataset = [json.loads(line) for line in open(dimsim_dir)]\n",
    "dimsim_artist_list = [element['artist_name'] for element in dimsim_dataset[0].values()]\n",
    "with open(f'{OUTPUT_PATH}/dimsim_artist.json', 'w') as file:\n",
    "    json.dump(dimsim_artist_list, file)\n",
    "len(dimsim_artist_list), len(set(dimsim_artist_list)), dimsim_artist_list[:10]"
   ]
  },
  {
   "cell_type": "code",
   "execution_count": 6,
   "metadata": {},
   "outputs": [
    {
     "data": {
      "text/plain": [
       "(2212388,\n",
       " 2008511,\n",
       " ['Доктор Сатана',\n",
       "  'Pete Moutso',\n",
       "  'Zachary',\n",
       "  'The Silhouettes',\n",
       "  'Aric Leavitt',\n",
       "  'Fonograff',\n",
       "  'Al Street',\n",
       "  'Love .45',\n",
       "  'Sintellect',\n",
       "  'Evie Tamala'])"
      ]
     },
     "execution_count": 6,
     "metadata": {},
     "output_type": "execute_result"
    }
   ],
   "source": [
    "# musicbrainz\n",
    "musicbrainz_dir = f'{INPUT_PATH}/musicbrainz.jsonl'\n",
    "musicbrainz_dataset = [json.loads(line) for line in open(musicbrainz_dir)]\n",
    "musicbrainz_artist_list = [element['text'] for element in musicbrainz_dataset]\n",
    "with open(f'{OUTPUT_PATH}/musicbrainz_artist.json', 'w') as file:\n",
    "    json.dump(musicbrainz_artist_list, file)\n",
    "len(musicbrainz_artist_list), len(set(musicbrainz_artist_list)), musicbrainz_artist_list[:10]"
   ]
  },
  {
   "cell_type": "code",
   "execution_count": null,
   "metadata": {},
   "outputs": [],
   "source": []
  }
 ],
 "metadata": {
  "kernelspec": {
   "display_name": "madmom-with-given-requirement-txt",
   "language": "python",
   "name": "python3"
  },
  "language_info": {
   "codemirror_mode": {
    "name": "ipython",
    "version": 3
   },
   "file_extension": ".py",
   "mimetype": "text/x-python",
   "name": "python",
   "nbconvert_exporter": "python",
   "pygments_lexer": "ipython3",
   "version": "3.8.17"
  },
  "orig_nbformat": 4
 },
 "nbformat": 4,
 "nbformat_minor": 2
}
