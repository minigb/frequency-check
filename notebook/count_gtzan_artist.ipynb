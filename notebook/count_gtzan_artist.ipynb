{
 "cells": [
  {
   "cell_type": "code",
   "execution_count": 42,
   "metadata": {},
   "outputs": [],
   "source": [
    "from pathlib import Path\n",
    "import pandas as pd\n",
    "import numpy as np\n",
    "import ast\n",
    "import json\n",
    "import os\n",
    "from tqdm import tqdm\n",
    "from collections import defaultdict\n",
    "from matplotlib import pyplot as plt\n",
    "import re"
   ]
  },
  {
   "cell_type": "code",
   "execution_count": 43,
   "metadata": {},
   "outputs": [],
   "source": [
    "gtzan_bind = pd.read_csv('dataset/seungheondoh/gtzan-bind/gtzan_bind_v1.csv')\n",
    "# gtzan_bind"
   ]
  },
  {
   "cell_type": "code",
   "execution_count": 44,
   "metadata": {},
   "outputs": [],
   "source": [
    "gtzan_artist2music = pd.read_csv('dataset/seungheondoh/gtzan_retrieval/artist2music.csv')\n",
    "# gtzan_artist2music"
   ]
  },
  {
   "cell_type": "code",
   "execution_count": 45,
   "metadata": {},
   "outputs": [],
   "source": [
    "gtzan_bind_artist = gtzan_bind['artist_name'].to_list()\n",
    "gtzan_artist2music_artist = gtzan_artist2music['query'].to_list()"
   ]
  },
  {
   "cell_type": "code",
   "execution_count": 46,
   "metadata": {},
   "outputs": [
    {
     "name": "stdout",
     "output_type": "stream",
     "text": [
      "Exists in bind, not in artist2music\n",
      "82 nan\n",
      "86 nan\n",
      "152 Billy Joe Shaver\n",
      "248 nan\n",
      "360 nan\n",
      "379 nan\n",
      "448 Johnny Crass\n",
      "479 Diana Ross\n",
      "560 nan\n",
      "567 Sonny Throckmorton\n",
      "694 nan\n",
      "701 nan\n",
      "707 Wesley Dennis\n",
      "723 Erik Satie\n",
      "726 nan\n",
      "847 nan\n",
      "853 Deep Purple\n",
      "886 nan\n",
      "894 nan\n",
      "943 nan\n",
      "957 Normaltown Flyers\n",
      "993 nan\n",
      "------------------------------\n",
      "Exists in artist2music, not in bind\n"
     ]
    }
   ],
   "source": [
    "def CompareAtoB(list_a, list_b):\n",
    "    for i, name in enumerate(list_a):\n",
    "        if name not in list_b:\n",
    "            print(i, name)\n",
    "\n",
    "print('Exists in bind, not in artist2music')\n",
    "CompareAtoB(gtzan_bind_artist, gtzan_artist2music_artist)\n",
    "print('-' * 30)\n",
    "print('Exists in artist2music, not in bind')\n",
    "CompareAtoB(gtzan_artist2music_artist, gtzan_bind_artist)"
   ]
  },
  {
   "cell_type": "code",
   "execution_count": 47,
   "metadata": {},
   "outputs": [
    {
     "data": {
      "text/plain": [
       "974"
      ]
     },
     "execution_count": 47,
     "metadata": {},
     "output_type": "execute_result"
    }
   ],
   "source": [
    "count_retrieval_task_n = 0\n",
    "for idx_list in gtzan_artist2music['target_idx'].apply(ast.literal_eval):\n",
    "    count_retrieval_task_n += len(idx_list)\n",
    "count_retrieval_task_n"
   ]
  },
  {
   "cell_type": "code",
   "execution_count": 48,
   "metadata": {},
   "outputs": [],
   "source": [
    "corpus = [json.loads(line) for line in open('dataset/music_corpus.jsonl')]\n",
    "corpus_text_list = [element['text'] for element in corpus]"
   ]
  },
  {
   "cell_type": "code",
   "execution_count": 49,
   "metadata": {},
   "outputs": [
    {
     "data": {
      "text/plain": [
       "{'allmusic',\n",
       " 'amazon_review',\n",
       " 'lp_music_caps',\n",
       " 'ner',\n",
       " 'pitchfork',\n",
       " 'song_meaning',\n",
       " 'wikipedia'}"
      ]
     },
     "execution_count": 49,
     "metadata": {},
     "output_type": "execute_result"
    }
   ],
   "source": [
    "set([element['source'] for element in corpus])"
   ]
  },
  {
   "cell_type": "code",
   "execution_count": 51,
   "metadata": {},
   "outputs": [
    {
     "name": "stdout",
     "output_type": "stream",
     "text": [
      "artist\n"
     ]
    },
    {
     "data": {
      "text/html": [
       "<div>\n",
       "<style scoped>\n",
       "    .dataframe tbody tr th:only-of-type {\n",
       "        vertical-align: middle;\n",
       "    }\n",
       "\n",
       "    .dataframe tbody tr th {\n",
       "        vertical-align: top;\n",
       "    }\n",
       "\n",
       "    .dataframe thead th {\n",
       "        text-align: right;\n",
       "    }\n",
       "</style>\n",
       "<table border=\"1\" class=\"dataframe\">\n",
       "  <thead>\n",
       "    <tr style=\"text-align: right;\">\n",
       "      <th></th>\n",
       "      <th>query</th>\n",
       "      <th>num_of_occurances</th>\n",
       "      <th>num_of_documents</th>\n",
       "      <th>num_of_targets</th>\n",
       "    </tr>\n",
       "  </thead>\n",
       "  <tbody>\n",
       "    <tr>\n",
       "      <th>0</th>\n",
       "      <td>New York City</td>\n",
       "      <td>112968</td>\n",
       "      <td>90027</td>\n",
       "      <td>1</td>\n",
       "    </tr>\n",
       "    <tr>\n",
       "      <th>1</th>\n",
       "      <td>Queen</td>\n",
       "      <td>110206</td>\n",
       "      <td>57753</td>\n",
       "      <td>14</td>\n",
       "    </tr>\n",
       "    <tr>\n",
       "      <th>2</th>\n",
       "      <td>Madonna</td>\n",
       "      <td>42190</td>\n",
       "      <td>17515</td>\n",
       "      <td>4</td>\n",
       "    </tr>\n",
       "    <tr>\n",
       "      <th>3</th>\n",
       "      <td>Metallica</td>\n",
       "      <td>33857</td>\n",
       "      <td>15804</td>\n",
       "      <td>7</td>\n",
       "    </tr>\n",
       "    <tr>\n",
       "      <th>4</th>\n",
       "      <td>Led Zeppelin</td>\n",
       "      <td>25668</td>\n",
       "      <td>14752</td>\n",
       "      <td>11</td>\n",
       "    </tr>\n",
       "    <tr>\n",
       "      <th>...</th>\n",
       "      <td>...</td>\n",
       "      <td>...</td>\n",
       "      <td>...</td>\n",
       "      <td>...</td>\n",
       "    </tr>\n",
       "    <tr>\n",
       "      <th>271</th>\n",
       "      <td>E. Power Biggs &amp; Vittorio Negri</td>\n",
       "      <td>0</td>\n",
       "      <td>0</td>\n",
       "      <td>1</td>\n",
       "    </tr>\n",
       "    <tr>\n",
       "      <th>272</th>\n",
       "      <td>Don Armando's 2nd Ave. Rhumba Band</td>\n",
       "      <td>0</td>\n",
       "      <td>0</td>\n",
       "      <td>1</td>\n",
       "    </tr>\n",
       "    <tr>\n",
       "      <th>273</th>\n",
       "      <td>Disco-Tex &amp; His Sex-O-Lettes</td>\n",
       "      <td>0</td>\n",
       "      <td>0</td>\n",
       "      <td>1</td>\n",
       "    </tr>\n",
       "    <tr>\n",
       "      <th>274</th>\n",
       "      <td>Dirt featuring Epsilon</td>\n",
       "      <td>0</td>\n",
       "      <td>0</td>\n",
       "      <td>1</td>\n",
       "    </tr>\n",
       "    <tr>\n",
       "      <th>312</th>\n",
       "      <td>ram jam world</td>\n",
       "      <td>0</td>\n",
       "      <td>0</td>\n",
       "      <td>1</td>\n",
       "    </tr>\n",
       "  </tbody>\n",
       "</table>\n",
       "<p>313 rows × 4 columns</p>\n",
       "</div>"
      ],
      "text/plain": [
       "                                  query  num_of_occurances  num_of_documents   \n",
       "0                         New York City             112968             90027  \\\n",
       "1                                 Queen             110206             57753   \n",
       "2                               Madonna              42190             17515   \n",
       "3                             Metallica              33857             15804   \n",
       "4                          Led Zeppelin              25668             14752   \n",
       "..                                  ...                ...               ...   \n",
       "271     E. Power Biggs & Vittorio Negri                  0                 0   \n",
       "272  Don Armando's 2nd Ave. Rhumba Band                  0                 0   \n",
       "273        Disco-Tex & His Sex-O-Lettes                  0                 0   \n",
       "274              Dirt featuring Epsilon                  0                 0   \n",
       "312                       ram jam world                  0                 0   \n",
       "\n",
       "     num_of_targets  \n",
       "0                 1  \n",
       "1                14  \n",
       "2                 4  \n",
       "3                 7  \n",
       "4                11  \n",
       "..              ...  \n",
       "271               1  \n",
       "272               1  \n",
       "273               1  \n",
       "274               1  \n",
       "312               1  \n",
       "\n",
       "[313 rows x 4 columns]"
      ]
     },
     "metadata": {},
     "output_type": "display_data"
    },
    {
     "name": "stdout",
     "output_type": "stream",
     "text": [
      "------------------------------\n"
     ]
    }
   ],
   "source": [
    "search_list = ['artist'] # TODO(minheelee): Change to get this by command line?\n",
    "RESULT_DIR = Path(f'result')\n",
    "for search in search_list:\n",
    "    result_file_path = RESULT_DIR / Path(f'{search}_counted_by_regex.csv')\n",
    "\n",
    "    # count\n",
    "    if not result_file_path.exists():\n",
    "        base_file_path = Path(f'dataset/seungheondoh/gtzan_retrieval/{search}2music.csv')\n",
    "        assert base_file_path.exists(), f'{base_file_path} does not exist'\n",
    "        base_df = pd.read_csv(base_file_path)\n",
    "\n",
    "        result_dict = defaultdict(dict)\n",
    "        for query in tqdm(base_df['query']):\n",
    "            pattern = r'\\b' + re.escape(query) + r'\\b'\n",
    "\n",
    "            total_occurance = 0\n",
    "            n_of_entity = 0\n",
    "            for text in corpus_text_list:\n",
    "                count = len(re.findall(pattern, text))\n",
    "                if count != 0:\n",
    "                    total_occurance += count\n",
    "                    n_of_entity += 1\n",
    "            \n",
    "            result_dict['num_of_occurances'][query] = total_occurance\n",
    "            result_dict['num_of_documents'][query] = n_of_entity\n",
    "\n",
    "        result_df = pd.DataFrame(result_dict)\n",
    "        result_df.index.name = 'query'\n",
    "\n",
    "        # get number of targets per artist\n",
    "        base_df['target_idx'] = base_df['target_idx'].apply(ast.literal_eval)\n",
    "        num_of_targets = [len(element) for element in base_df['target_idx'].to_list()]\n",
    "        result_df['num_of_targets'] = num_of_targets\n",
    "    else:\n",
    "        result_df = pd.read_csv(result_file_path)\n",
    "\n",
    "    # sort\n",
    "    result_df.sort_values(by = 'num_of_occurances', ascending = False, inplace = True)\n",
    "    print(search)\n",
    "    display(result_df)\n",
    "    result_df.to_csv(result_file_path)\n",
    "    print('-' * 30)\n"
   ]
  },
  {
   "cell_type": "code",
   "execution_count": 53,
   "metadata": {},
   "outputs": [
    {
     "name": "stdout",
     "output_type": "stream",
     "text": [
      "* Ranges are in intervals of 10,000 *\n",
      "[110,000, 120,000): 2, 2\n",
      "[40,000, 50,000): 1, 3\n",
      "[30,000, 40,000): 1, 4\n",
      "[20,000, 30,000): 5, 9\n",
      "[10,000, 20,000): 23, 32\n",
      "------------------------------\n",
      "* Ranges are in intervals of 1,000 *\n",
      "[9,000, 10,000): 5, 37\n",
      "[8,000, 9,000): 3, 40\n",
      "[7,000, 8,000): 8, 48\n",
      "[6,000, 7,000): 5, 53\n",
      "[5,000, 6,000): 16, 69\n",
      "[4,000, 5,000): 19, 88\n",
      "[3,000, 4,000): 16, 104\n",
      "[2,000, 3,000): 24, 128\n",
      "[1,000, 2,000): 27, 155\n",
      "------------------------------\n",
      "* Ranges are in intervals of 100 *\n",
      "[900, 1,000): 5, 160\n",
      "[800, 900): 7, 167\n",
      "[700, 800): 5, 172\n",
      "[600, 700): 4, 176\n",
      "[500, 600): 3, 179\n",
      "[400, 500): 9, 188\n",
      "[300, 400): 6, 194\n",
      "[200, 300): 12, 206\n",
      "[100, 200): 10, 216\n",
      "[0, 100): 97, 313\n"
     ]
    },
    {
     "data": {
      "image/png": "[encoded data removed]",
      "text/plain": [
       "<Figure size 1200x900 with 1 Axes>"
      ]
     },
     "metadata": {},
     "output_type": "display_data"
    }
   ],
   "source": [
    "def make_number_prettier(number: int):\n",
    "    number = str(number)\n",
    "    \n",
    "\n",
    "for search in search_list:\n",
    "    result_file_path = RESULT_DIR / Path(f'{search}_counted_by_regex.csv')\n",
    "    assert result_file_path.exists()\n",
    "    result_df = pd.read_csv(result_file_path)\n",
    "\n",
    "    # get the number of elements per range\n",
    "    result_total_list = np.array(result_df['num_of_occurances'].to_list())\n",
    "    unit = int(1e4)\n",
    "    print(f'* Ranges are in intervals of {unit:,} *')\n",
    "    range_max = int((max(result_total_list) // unit + 1) * unit)\n",
    "    while range_max > 0:\n",
    "        assert unit > 0, f'unit should be bigger than 0, now {unit}'\n",
    "\n",
    "        range_min = range_max - unit\n",
    "        count_in_range = np.sum((range_min <= result_total_list) & (result_total_list < range_max))\n",
    "        count_accumulated = np.sum((range_min <= result_total_list))\n",
    "        if count_in_range > 0:\n",
    "            print(f'[{range_min:,}, {range_max:,}): {count_in_range:,}, {count_accumulated:,}')\n",
    "\n",
    "        range_max = range_min\n",
    "        if range_max == 10000 or range_max == 1000:\n",
    "            unit = unit // 10\n",
    "            print('-' * 30)\n",
    "            print(f'* Ranges are in intervals of {unit:,} *')\n",
    "\n",
    "    # draw histogram\n",
    "    plt.figure(figsize = (12, 9))\n",
    "    plt.hist(result_total_list, bins = 100)\n",
    "    plt.title('Distribution of the Number of Occurances')\n",
    "    plt.xlabel('n of occurances')\n",
    "    plt.ylabel('n of artists')\n",
    "    plt.show()"
   ]
  },
  {
   "cell_type": "code",
   "execution_count": null,
   "metadata": {},
   "outputs": [],
   "source": []
  }
 ],
 "metadata": {
  "kernelspec": {
   "display_name": "mps-torch",
   "language": "python",
   "name": "python3"
  },
  "language_info": {
   "codemirror_mode": {
    "name": "ipython",
    "version": 3
   },
   "file_extension": ".py",
   "mimetype": "text/x-python",
   "name": "python",
   "nbconvert_exporter": "python",
   "pygments_lexer": "ipython3",
   "version": "3.10.11"
  },
  "orig_nbformat": 4
 },
 "nbformat": 4,
 "nbformat_minor": 2
}
