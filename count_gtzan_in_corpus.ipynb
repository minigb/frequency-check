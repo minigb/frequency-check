{
 "cells": [
  {
   "cell_type": "code",
   "execution_count": 27,
   "metadata": {},
   "outputs": [],
   "source": [
    "from pathlib import Path\n",
    "import pandas as pd\n",
    "import numpy as np\n",
    "import ast\n",
    "import json\n",
    "import os\n",
    "from tqdm import tqdm\n",
    "from collections import defaultdict\n",
    "from matplotlib import pyplot as plt\n",
    "import re"
   ]
  },
  {
   "cell_type": "code",
   "execution_count": 3,
   "metadata": {},
   "outputs": [],
   "source": [
    "gtzan_bind = pd.read_csv('dataset/seungheondoh/gtzan-bind/gtzan_bind_v1.csv')\n",
    "# gtzan_bind"
   ]
  },
  {
   "cell_type": "code",
   "execution_count": 4,
   "metadata": {},
   "outputs": [],
   "source": [
    "gtzan_artist2music = pd.read_csv('dataset/seungheondoh/gtzan_retrieval/artist2music.csv')\n",
    "# gtzan_artist2music"
   ]
  },
  {
   "cell_type": "code",
   "execution_count": 6,
   "metadata": {},
   "outputs": [],
   "source": [
    "gtzan_bind_artist = gtzan_bind['artist_name'].to_list()\n",
    "gtzan_artist2music_artist = gtzan_artist2music['query'].to_list()"
   ]
  },
  {
   "cell_type": "code",
   "execution_count": 7,
   "metadata": {},
   "outputs": [
    {
     "name": "stdout",
     "output_type": "stream",
     "text": [
      "Exists in bind, not in artist2music\n",
      "82 nan\n",
      "86 nan\n",
      "152 Billy Joe Shaver\n",
      "248 nan\n",
      "360 nan\n",
      "379 nan\n",
      "448 Johnny Crass\n",
      "479 Diana Ross\n",
      "560 nan\n",
      "567 Sonny Throckmorton\n",
      "694 nan\n",
      "701 nan\n",
      "707 Wesley Dennis\n",
      "723 Erik Satie\n",
      "726 nan\n",
      "847 nan\n",
      "853 Deep Purple\n",
      "886 nan\n",
      "894 nan\n",
      "943 nan\n",
      "957 Normaltown Flyers\n",
      "993 nan\n",
      "------------------------------\n",
      "Exists in artist2music, not in bind\n"
     ]
    }
   ],
   "source": [
    "def CompareAtoB(list_a, list_b):\n",
    "    for i, name in enumerate(list_a):\n",
    "        if name not in list_b:\n",
    "            print(i, name)\n",
    "\n",
    "print('Exists in bind, not in artist2music')\n",
    "CompareAtoB(gtzan_bind_artist, gtzan_artist2music_artist)\n",
    "print('-' * 30)\n",
    "print('Exists in artist2music, not in bind')\n",
    "CompareAtoB(gtzan_artist2music_artist, gtzan_bind_artist)"
   ]
  },
  {
   "cell_type": "code",
   "execution_count": 8,
   "metadata": {},
   "outputs": [
    {
     "data": {
      "text/plain": [
       "974"
      ]
     },
     "execution_count": 8,
     "metadata": {},
     "output_type": "execute_result"
    }
   ],
   "source": [
    "count_retrieval_task_n = 0\n",
    "for idx_list in gtzan_artist2music['target_idx'].apply(ast.literal_eval):\n",
    "    count_retrieval_task_n += len(idx_list)\n",
    "count_retrieval_task_n"
   ]
  },
  {
   "cell_type": "code",
   "execution_count": 10,
   "metadata": {},
   "outputs": [],
   "source": [
    "corpus = [json.loads(line) for line in open('dataset/music_corpus.jsonl')]\n",
    "corpus_text_list = [element['text'] for element in corpus]"
   ]
  },
  {
   "cell_type": "code",
   "execution_count": 11,
   "metadata": {},
   "outputs": [
    {
     "data": {
      "text/plain": [
       "{'allmusic',\n",
       " 'amazon_review',\n",
       " 'lp_music_caps',\n",
       " 'ner',\n",
       " 'pitchfork',\n",
       " 'song_meaning',\n",
       " 'wikipedia'}"
      ]
     },
     "execution_count": 11,
     "metadata": {},
     "output_type": "execute_result"
    }
   ],
   "source": [
    "set([element['source'] for element in corpus])"
   ]
  },
  {
   "cell_type": "code",
   "execution_count": 28,
   "metadata": {},
   "outputs": [
    {
     "name": "stderr",
     "output_type": "stream",
     "text": [
      "100%|██████████| 313/313 [5:28:52<00:00, 63.04s/it]  "
     ]
    },
    {
     "name": "stdout",
     "output_type": "stream",
     "text": [
      "artist\n"
     ]
    },
    {
     "name": "stderr",
     "output_type": "stream",
     "text": [
      "\n"
     ]
    },
    {
     "data": {
      "text/html": [
       "<div>\n",
       "<style scoped>\n",
       "    .dataframe tbody tr th:only-of-type {\n",
       "        vertical-align: middle;\n",
       "    }\n",
       "\n",
       "    .dataframe tbody tr th {\n",
       "        vertical-align: top;\n",
       "    }\n",
       "\n",
       "    .dataframe thead th {\n",
       "        text-align: right;\n",
       "    }\n",
       "</style>\n",
       "<table border=\"1\" class=\"dataframe\">\n",
       "  <thead>\n",
       "    <tr style=\"text-align: right;\">\n",
       "      <th></th>\n",
       "      <th>total</th>\n",
       "      <th>num_of_entity</th>\n",
       "      <th>num_of_targets</th>\n",
       "    </tr>\n",
       "    <tr>\n",
       "      <th>query</th>\n",
       "      <th></th>\n",
       "      <th></th>\n",
       "      <th></th>\n",
       "    </tr>\n",
       "  </thead>\n",
       "  <tbody>\n",
       "    <tr>\n",
       "      <th>New York City</th>\n",
       "      <td>112968</td>\n",
       "      <td>90027</td>\n",
       "      <td>1</td>\n",
       "    </tr>\n",
       "    <tr>\n",
       "      <th>Queen</th>\n",
       "      <td>110206</td>\n",
       "      <td>57753</td>\n",
       "      <td>14</td>\n",
       "    </tr>\n",
       "    <tr>\n",
       "      <th>Madonna</th>\n",
       "      <td>42190</td>\n",
       "      <td>17515</td>\n",
       "      <td>4</td>\n",
       "    </tr>\n",
       "    <tr>\n",
       "      <th>Metallica</th>\n",
       "      <td>33857</td>\n",
       "      <td>15804</td>\n",
       "      <td>7</td>\n",
       "    </tr>\n",
       "    <tr>\n",
       "      <th>Led Zeppelin</th>\n",
       "      <td>25668</td>\n",
       "      <td>14752</td>\n",
       "      <td>11</td>\n",
       "    </tr>\n",
       "    <tr>\n",
       "      <th>...</th>\n",
       "      <td>...</td>\n",
       "      <td>...</td>\n",
       "      <td>...</td>\n",
       "    </tr>\n",
       "    <tr>\n",
       "      <th>Kazimierz Kord, Warsaw Philharmonic Orchestra, Warsaw National Philharmonic Orchestra &amp; Kaja Danczowska</th>\n",
       "      <td>0</td>\n",
       "      <td>0</td>\n",
       "      <td>1</td>\n",
       "    </tr>\n",
       "    <tr>\n",
       "      <th>Jxctis</th>\n",
       "      <td>0</td>\n",
       "      <td>0</td>\n",
       "      <td>1</td>\n",
       "    </tr>\n",
       "    <tr>\n",
       "      <th>Junia Walker AllStars</th>\n",
       "      <td>0</td>\n",
       "      <td>0</td>\n",
       "      <td>1</td>\n",
       "    </tr>\n",
       "    <tr>\n",
       "      <th>Juilliard String Quartet, Robert Mann, Joel Smirnoff, Samuel Rhodes &amp; Joel Krosnick</th>\n",
       "      <td>0</td>\n",
       "      <td>0</td>\n",
       "      <td>11</td>\n",
       "    </tr>\n",
       "    <tr>\n",
       "      <th>ram jam world</th>\n",
       "      <td>0</td>\n",
       "      <td>0</td>\n",
       "      <td>1</td>\n",
       "    </tr>\n",
       "  </tbody>\n",
       "</table>\n",
       "<p>313 rows × 3 columns</p>\n",
       "</div>"
      ],
      "text/plain": [
       "                                                     total  num_of_entity   \n",
       "query                                                                       \n",
       "New York City                                       112968          90027  \\\n",
       "Queen                                               110206          57753   \n",
       "Madonna                                              42190          17515   \n",
       "Metallica                                            33857          15804   \n",
       "Led Zeppelin                                         25668          14752   \n",
       "...                                                    ...            ...   \n",
       "Kazimierz Kord, Warsaw Philharmonic Orchestra, ...       0              0   \n",
       "Jxctis                                                   0              0   \n",
       "Junia Walker AllStars                                    0              0   \n",
       "Juilliard String Quartet, Robert Mann, Joel Smi...       0              0   \n",
       "ram jam world                                            0              0   \n",
       "\n",
       "                                                    num_of_targets  \n",
       "query                                                               \n",
       "New York City                                                    1  \n",
       "Queen                                                           14  \n",
       "Madonna                                                          4  \n",
       "Metallica                                                        7  \n",
       "Led Zeppelin                                                    11  \n",
       "...                                                            ...  \n",
       "Kazimierz Kord, Warsaw Philharmonic Orchestra, ...               1  \n",
       "Jxctis                                                           1  \n",
       "Junia Walker AllStars                                            1  \n",
       "Juilliard String Quartet, Robert Mann, Joel Smi...              11  \n",
       "ram jam world                                                    1  \n",
       "\n",
       "[313 rows x 3 columns]"
      ]
     },
     "metadata": {},
     "output_type": "display_data"
    },
    {
     "name": "stdout",
     "output_type": "stream",
     "text": [
      "------------------------------\n"
     ]
    }
   ],
   "source": [
    "search_list = ['artist'] # TODO(minheelee): Change to get this by command line?\n",
    "RESULT_DIR = Path(f'result')\n",
    "for search in search_list:\n",
    "    result_file_path = RESULT_DIR / Path(f'{search}_with_re.csv')\n",
    "\n",
    "    # count\n",
    "    if not result_file_path.exists():\n",
    "        base_file_path = Path(f'dataset/seungheondoh/gtzan_retrieval/{search}2music.csv')\n",
    "        assert base_file_path.exists(), f'{base_file_path} does not exist'\n",
    "        base_df = pd.read_csv(base_file_path)\n",
    "\n",
    "        result_dict = defaultdict(dict)\n",
    "        for query in tqdm(base_df['query']):\n",
    "            pattern = r'\\b' + re.escape(query) + r'\\b'\n",
    "\n",
    "            total_appearance = 0\n",
    "            n_of_entity = 0\n",
    "            for text in corpus_text_list:\n",
    "                count = len(re.findall(pattern, text))\n",
    "                if count != 0:\n",
    "                    total_appearance += count\n",
    "                    n_of_entity += 1\n",
    "            \n",
    "            result_dict['total'][query] = total_appearance\n",
    "            result_dict['num_of_entity'][query] = n_of_entity\n",
    "\n",
    "        result_df = pd.DataFrame(result_dict)\n",
    "        result_df.index.name = 'query'\n",
    "\n",
    "        # get number of targets per artist\n",
    "        base_df['target_idx'] = base_df['target_idx'].apply(ast.literal_eval)\n",
    "        num_of_targets = [len(element) for element in base_df['target_idx'].to_list()]\n",
    "        result_df['num_of_targets'] = num_of_targets\n",
    "\n",
    "    # sort\n",
    "    result_df.sort_values(by = 'total', ascending = False, inplace = True)\n",
    "    print(search)\n",
    "    display(result_df)\n",
    "    result_df.to_csv(result_file_path)\n",
    "    print('-' * 30)\n"
   ]
  },
  {
   "cell_type": "code",
   "execution_count": 26,
   "metadata": {},
   "outputs": [
    {
     "name": "stdout",
     "output_type": "stream",
     "text": [
      "[220000, 230000): 1, 1\n",
      "[150000, 160000): 1, 2\n",
      "[110000, 120000): 1, 3\n",
      "[80000, 90000): 1, 4\n",
      "[60000, 70000): 1, 5\n",
      "[40000, 50000): 1, 6\n",
      "[30000, 40000): 1, 7\n",
      "[20000, 30000): 6, 13\n",
      "[10000, 20000): 20, 33\n",
      "------------------------------\n",
      "[9000, 10000): 6, 39\n",
      "[8000, 9000): 3, 42\n",
      "[7000, 8000): 9, 51\n",
      "[6000, 7000): 4, 55\n",
      "[5000, 6000): 16, 71\n",
      "[4000, 5000): 19, 90\n",
      "[3000, 4000): 16, 106\n",
      "[2000, 3000): 25, 131\n",
      "[1000, 2000): 27, 158\n",
      "------------------------------\n",
      "[900, 1000): 5, 163\n",
      "[800, 900): 8, 171\n",
      "[700, 800): 2, 173\n",
      "[600, 700): 4, 177\n",
      "[500, 600): 4, 181\n",
      "[400, 500): 9, 190\n",
      "[300, 400): 6, 196\n",
      "[200, 300): 11, 207\n",
      "[100, 200): 11, 218\n",
      "[0, 100): 95, 313\n"
     ]
    },
    {
     "data": {
      "image/png": "[encoded data removed]",
      "text/plain": [
       "<Figure size 1200x900 with 1 Axes>"
      ]
     },
     "metadata": {},
     "output_type": "display_data"
    }
   ],
   "source": [
    "for search in search_list:\n",
    "    result_file_path = RESULT_DIR / Path(f'{search}_with_re.csv')\n",
    "    assert result_file_path.exists()\n",
    "    result_df = pd.read_csv(result_file_path)\n",
    "\n",
    "    # get the number of elements per range\n",
    "    result_total_list = np.array(result_df['total'].to_list())\n",
    "    unit = int(1e4)\n",
    "    range_max = int((max(result_total_list) // unit + 1) * unit)\n",
    "    while range_max > 0:\n",
    "        assert unit > 0, f'unit should be bigger than 0, now {unit}'\n",
    "\n",
    "        range_min = range_max - unit\n",
    "        count_in_range = np.sum((range_min <= result_total_list) & (result_total_list < range_max))\n",
    "        count_accumulated = np.sum((range_min <= result_total_list))\n",
    "        if count_in_range > 0:\n",
    "            print(f'[{range_min}, {range_max}): {count_in_range}, {count_accumulated}')\n",
    "\n",
    "        range_max = range_min\n",
    "        if range_max == 10000 or range_max == 1000:\n",
    "            unit = unit // 10\n",
    "            print('-' * 30)\n",
    "\n",
    "    # draw histogram\n",
    "    plt.figure(figsize = (12, 9))\n",
    "    plt.hist(result_total_list, bins = 100)\n",
    "    plt.title('Distribution of the Number of Total Occurance')\n",
    "    plt.xlabel('total occurance')\n",
    "    plt.ylabel('n of artists')\n",
    "    plt.show()"
   ]
  },
  {
   "cell_type": "code",
   "execution_count": null,
   "metadata": {},
   "outputs": [],
   "source": []
  }
 ],
 "metadata": {
  "kernelspec": {
   "display_name": "mps-torch",
   "language": "python",
   "name": "python3"
  },
  "language_info": {
   "codemirror_mode": {
    "name": "ipython",
    "version": 3
   },
   "file_extension": ".py",
   "mimetype": "text/x-python",
   "name": "python",
   "nbconvert_exporter": "python",
   "pygments_lexer": "ipython3",
   "version": "3.10.11"
  },
  "orig_nbformat": 4
 },
 "nbformat": 4,
 "nbformat_minor": 2
}
