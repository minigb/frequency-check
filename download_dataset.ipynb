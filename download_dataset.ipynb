{
 "cells": [
  {
   "cell_type": "code",
   "execution_count": 5,
   "metadata": {},
   "outputs": [],
   "source": [
    "from datasets import load_dataset\n",
    "import pandas as pd\n",
    "import os\n",
    "import shutil\n",
    "from pathlib import Path"
   ]
  },
  {
   "cell_type": "code",
   "execution_count": null,
   "metadata": {},
   "outputs": [],
   "source": [
    "repo_names = ['seungheondoh/music-wiki', 'seungheondoh/gtzan_retrieval', 'seungheondoh/gtzan-bind', 'seungheondoh/music-audio-pseudo-captions']\n",
    "repo_to_download = []\n",
    "\n",
    "existing_files = os.listdir('dataset')\n",
    "for dataset_name in repo_names:\n",
    "    if dataset_name in existing_files and dataset_name not in repo_to_download:\n",
    "        print(f'{dataset_name} already exists')\n",
    "        continue\n",
    "\n",
    "    dir_name = f'dataset/{dataset_name}'\n",
    "    if os.path.exists(dir_name):\n",
    "        shutil.rmtree(dir_name, ignore_errors = True)\n",
    "    os.mkdir(dir_name)\n",
    "\n",
    "    dataset = load_dataset(dataset_name)\n",
    "    for key in dataset.keys():\n",
    "        df = pd.DataFrame.from_dict(dataset[key])\n",
    "        df.to_csv(f'{dir_name}/{key}.csv', index = False)"
   ]
  },
  {
   "cell_type": "code",
   "execution_count": 9,
   "metadata": {},
   "outputs": [
    {
     "name": "stdout",
     "output_type": "stream",
     "text": [
      "dataset ['seungheondoh'] []\n",
      "dataset/seungheondoh ['music-audio-pseudo-captions', 'gtzan-bind', 'gtzan_retrieval', 'music-wiki'] []\n",
      "dataset/seungheondoh/music-audio-pseudo-captions [] ['balanced_test.csv', 'balanced_train.csv', 'unbalanced_sample.csv']\n",
      "dataset/seungheondoh/gtzan-bind [] ['gtzan_bind_v1.csv']\n",
      "dataset/seungheondoh/gtzan_retrieval [] ['album2music.csv', 'caption2music.csv', 'key2music.csv', 'tempo2music.csv', 'artist2music.csv', 'tag2music.csv']\n",
      "dataset/seungheondoh/music-wiki [] ['wikipedia_music.csv', 'musicbrainz_artist.csv', 'musicbrainz_instrument.csv', 'musicbrainz_genre.csv', 'musicbrainz_release_group.csv', 'musicbrainz_series.csv', 'musicbrainz_area.csv', 'musicbrainz_work.csv', 'musicbrainz_label.csv', 'musicbrainz_event.csv', 'musicbrainz_place.csv', 'musicbrainz_release.csv']\n"
     ]
    }
   ],
   "source": [
    "for root, dirs, files in os.walk('dataset'):\n",
    "    print(root, dirs, files)"
   ]
  },
  {
   "cell_type": "code",
   "execution_count": null,
   "metadata": {},
   "outputs": [],
   "source": []
  }
 ],
 "metadata": {
  "kernelspec": {
   "display_name": "mps-torch",
   "language": "python",
   "name": "python3"
  },
  "language_info": {
   "codemirror_mode": {
    "name": "ipython",
    "version": 3
   },
   "file_extension": ".py",
   "mimetype": "text/x-python",
   "name": "python",
   "nbconvert_exporter": "python",
   "pygments_lexer": "ipython3",
   "version": "3.10.11"
  },
  "orig_nbformat": 4
 },
 "nbformat": 4,
 "nbformat_minor": 2
}
